{
 "cells": [
  {
   "cell_type": "markdown",
   "id": "4a2430dd-cf83-448f-b019-4bc06764a175",
   "metadata": {},
   "source": [
    "### Example 2.0.1"
   ]
  },
  {
   "cell_type": "code",
   "execution_count": 1,
   "id": "6cba3240-d288-45f2-819f-f989973e7680",
   "metadata": {},
   "outputs": [
    {
     "name": "stdout",
     "output_type": "stream",
     "text": [
      "P: (3 : 5 : 1)\n",
      "2*P: (129/100 : -383/1000 : 1)\n",
      "3*P: (164323/29241 : -66234835/5000211 : 1)\n"
     ]
    }
   ],
   "source": [
    "from sage.all import GF, EllipticCurve\n",
    "\n",
    "from sage.all import QQ, EllipticCurve, PolynomialRing\n",
    "\n",
    "# We need to define Qext to account for cases where our elliptic curve equation\n",
    "# E doesn't work for points in Q. For example: \n",
    "# For S = (0, y_s), y^2 = 0 - 2 = - 2, which has no solutions in Q.\n",
    "# However, if we extend Q as Q(alpha) where alpha^2 = -2, we can write S = (0, alpha)\n",
    "\n",
    "# Define the base field Q (the rational numbers)\n",
    "Q = QQ\n",
    "\n",
    "# Define the extension field Qext = Q(alpha) where alpha^2 + 2 = 0\n",
    "R.<alpha> = PolynomialRing(Q)\n",
    "QExt = Q.extension(alpha^2 + 2, 'alpha')\n",
    "\n",
    "# Define the elliptic curve E: y^2 = x^3 - 2 over QExt\n",
    "E = EllipticCurve(QExt, [0, -2])\n",
    "\n",
    "# Extend the elliptic curve E over the field Qext\n",
    "Eext = E.change_ring(QExt)\n",
    "\n",
    "# Define points on the elliptic curve\n",
    "P1 = E([3, 5])        # Point P1 on E(Q)\n",
    "S = Eext([0, alpha])  # Point S on E(Qext)\n",
    "\n",
    "# Perform scalar multiplication\n",
    "P2 = 2 * P1\n",
    "P3 = 3 * P1\n",
    "\n",
    "# Print results\n",
    "print(f\"P: {P1}\")\n",
    "print(f\"2*P: {P2}\")\n",
    "print(f\"3*P: {P3}\")"
   ]
  },
  {
   "cell_type": "markdown",
   "id": "79986d32-751b-450d-ab02-dc8f30e793d9",
   "metadata": {},
   "source": [
    "### Example 2.0.2"
   ]
  },
  {
   "cell_type": "code",
   "execution_count": 2,
   "id": "d78a860d-9691-4a6c-ba1f-340c32cae2a8",
   "metadata": {},
   "outputs": [
    {
     "name": "stdout",
     "output_type": "stream",
     "text": [
      "Number of points on E_Fq: 14\n",
      "Points on E_Fq: [(0 : 1 : 0), (0 : 5 : 1), (0 : 6 : 1), (3 : 3 : 1), (3 : 8 : 1), (5 : 4 : 1), (5 : 7 : 1), (6 : 1 : 1), (6 : 10 : 1), (7 : 0 : 1), (9 : 3 : 1), (9 : 8 : 1), (10 : 3 : 1), (10 : 8 : 1)]\n",
      "Point at infinity: (0 : 1 : 0)\n",
      "Number of points on E_Fq2: 140\n",
      "Points on E_Fq2: [(0 : 1 : 0), (0 : 5 : 1), (0 : 6 : 1), (1 : 5*i : 1), (1 : 6*i : 1), (2 : 5*i : 1), (2 : 6*i : 1), (3 : 3 : 1), (3 : 8 : 1), (4 : 4*i : 1), (4 : 7*i : 1), (5 : 4 : 1), (5 : 7 : 1), (6 : 1 : 1), (6 : 10 : 1), (7 : 0 : 1), (8 : 5*i : 1), (8 : 6*i : 1), (9 : 3 : 1), (9 : 8 : 1), (10 : 3 : 1), (10 : 8 : 1), (i + 2 : 5*i + 7 : 1), (i + 2 : 6*i + 4 : 1), (i + 3 : 2*i + 2 : 1), (i + 3 : 9*i + 9 : 1), (i + 6 : 2*i + 3 : 1), (i + 6 : 9*i + 8 : 1), (i + 8 : 5*i + 3 : 1), (i + 8 : 6*i + 8 : 1), (i + 10 : 2*i + 7 : 1), (i + 10 : 9*i + 4 : 1), (2*i : 5 : 1), (2*i : 6 : 1), (2*i + 3 : 3*i + 9 : 1), (2*i + 3 : 8*i + 2 : 1), (2*i + 5 : 3*i + 3 : 1), (2*i + 5 : 8*i + 8 : 1), (2*i + 7 : i + 4 : 1), (2*i + 7 : 10*i + 7 : 1), (2*i + 8 : 4*i + 4 : 1), (2*i + 8 : 7*i + 7 : 1), (2*i + 9 : i + 1 : 1), (2*i + 9 : 10*i + 10 : 1), (2*i + 10 : 4*i + 9 : 1), (2*i + 10 : 7*i + 2 : 1), (3*i : i + 9 : 1), (3*i : 10*i + 2 : 1), (3*i + 1 : 3*i + 10 : 1), (3*i + 1 : 8*i + 1 : 1), (3*i + 2 : 5*i + 1 : 1), (3*i + 2 : 6*i + 10 : 1), (3*i + 3 : 4 : 1), (3*i + 3 : 7 : 1), (3*i + 5 : i + 6 : 1), (3*i + 5 : 10*i + 5 : 1), (3*i + 8 : 1 : 1), (3*i + 8 : 10 : 1), (3*i + 10 : 3*i + 10 : 1), (3*i + 10 : 8*i + 1 : 1), (4*i : i + 9 : 1), (4*i : 10*i + 2 : 1), (4*i + 1 : i + 4 : 1), (4*i + 1 : 10*i + 7 : 1), (4*i + 2 : 0 : 1), (4*i + 3 : i + 8 : 1), (4*i + 3 : 10*i + 3 : 1), (4*i + 7 : 2*i + 3 : 1), (4*i + 7 : 9*i + 8 : 1), (4*i + 9 : 4*i : 1), (4*i + 9 : 7*i : 1), (5*i : 3*i + 10 : 1), (5*i : 8*i + 1 : 1), (5*i + 1 : 2*i + 5 : 1), (5*i + 1 : 9*i + 6 : 1), (5*i + 3 : i + 4 : 1), (5*i + 3 : 10*i + 7 : 1), (5*i + 9 : 2*i + 8 : 1), (5*i + 9 : 9*i + 3 : 1), (5*i + 10 : 3*i + 7 : 1), (5*i + 10 : 8*i + 4 : 1), (6*i : 3*i + 1 : 1), (6*i : 8*i + 10 : 1), (6*i + 1 : 2*i + 6 : 1), (6*i + 1 : 9*i + 5 : 1), (6*i + 3 : i + 7 : 1), (6*i + 3 : 10*i + 4 : 1), (6*i + 9 : 2*i + 3 : 1), (6*i + 9 : 9*i + 8 : 1), (6*i + 10 : 3*i + 4 : 1), (6*i + 10 : 8*i + 7 : 1), (7*i : i + 2 : 1), (7*i : 10*i + 9 : 1), (7*i + 1 : i + 7 : 1), (7*i + 1 : 10*i + 4 : 1), (7*i + 2 : 0 : 1), (7*i + 3 : i + 3 : 1), (7*i + 3 : 10*i + 8 : 1), (7*i + 7 : 2*i + 8 : 1), (7*i + 7 : 9*i + 3 : 1), (7*i + 9 : 4*i : 1), (7*i + 9 : 7*i : 1), (8*i : i + 2 : 1), (8*i : 10*i + 9 : 1), (8*i + 1 : 3*i + 1 : 1), (8*i + 1 : 8*i + 10 : 1), (8*i + 2 : 5*i + 10 : 1), (8*i + 2 : 6*i + 1 : 1), (8*i + 3 : 4 : 1), (8*i + 3 : 7 : 1), (8*i + 5 : i + 5 : 1), (8*i + 5 : 10*i + 6 : 1), (8*i + 8 : 1 : 1), (8*i + 8 : 10 : 1), (8*i + 10 : 3*i + 1 : 1), (8*i + 10 : 8*i + 10 : 1), (9*i : 5 : 1), (9*i : 6 : 1), (9*i + 3 : 3*i + 2 : 1), (9*i + 3 : 8*i + 9 : 1), (9*i + 5 : 3*i + 8 : 1), (9*i + 5 : 8*i + 3 : 1), (9*i + 7 : i + 7 : 1), (9*i + 7 : 10*i + 4 : 1), (9*i + 8 : 4*i + 7 : 1), (9*i + 8 : 7*i + 4 : 1), (9*i + 9 : i + 10 : 1), (9*i + 9 : 10*i + 1 : 1), (9*i + 10 : 4*i + 2 : 1), (9*i + 10 : 7*i + 9 : 1), (10*i + 2 : 5*i + 4 : 1), (10*i + 2 : 6*i + 7 : 1), (10*i + 3 : 2*i + 9 : 1), (10*i + 3 : 9*i + 2 : 1), (10*i + 6 : 2*i + 8 : 1), (10*i + 6 : 9*i + 3 : 1), (10*i + 8 : 5*i + 8 : 1), (10*i + 8 : 6*i + 3 : 1), (10*i + 10 : 2*i + 4 : 1), (10*i + 10 : 9*i + 7 : 1)]\n",
      "Point at infinity: (0 : 1 : 0)\n"
     ]
    }
   ],
   "source": [
    "# Define the finite field GF(11)\n",
    "q = 11\n",
    "Fq = GF(q)\n",
    "\n",
    "# Define the elliptic curve E: y^2 = x^3 + 4x + 3\n",
    "E_f = [4, 3]\n",
    "E_Fq = EllipticCurve(Fq, E_f)\n",
    "\n",
    "\n",
    "points = E_Fq.points()\n",
    "print(f\"Number of points on E_Fq: {len(points)}\")\n",
    "print(f\"Points on E_Fq: {points}\")\n",
    "print(f\"Point at infinity: {E_Fq(0)}\")\n",
    "\n",
    "# Define the quadratic extension field Fq2 = GF(q^2) with i^2 + 1 = 0\n",
    "Fq2 = GF(q ^ 2, name=\"i\", modulus=x ^ 2 + 1)\n",
    "\n",
    "# Define the elliptic curve over Fq2\n",
    "E_Fq2 = EllipticCurve(Fq2, E_f)\n",
    "\n",
    "points = E_Fq2.points()\n",
    "print(f\"Number of points on E_Fq2: {len(points)}\")\n",
    "print(f\"Points on E_Fq2: {points}\")\n",
    "print(f\"Point at infinity: {E_Fq2(0)}\")"
   ]
  },
  {
   "cell_type": "code",
   "execution_count": 3,
   "id": "48d5c692-1e1c-4a08-a19c-c6452ff951d2",
   "metadata": {},
   "outputs": [
    {
     "data": {
      "text/plain": [
       "True"
      ]
     },
     "execution_count": 3,
     "metadata": {},
     "output_type": "execute_result"
    }
   ],
   "source": [
    "# #E(Fq) | #E(Fq2), because E(Fq) is a subgroup of E(Fq2)\n",
    "len(E_Fq2.points()) % len(E_Fq.points()) == 0"
   ]
  },
  {
   "cell_type": "code",
   "execution_count": 4,
   "id": "d08b3b46-c010-4f4f-bc5c-094a0db10deb",
   "metadata": {},
   "outputs": [
    {
     "data": {
      "text/plain": [
       "(2 : 5*i : 1)"
      ]
     },
     "execution_count": 4,
     "metadata": {},
     "output_type": "execute_result"
    }
   ],
   "source": [
    "P = E_Fq2(2, 5 * Fq2.gen())\n",
    "# For P = (x_p, y_p), x_p = 2 is in Fq and y_p = 5*i is in Fq2\n",
    "P"
   ]
  },
  {
   "cell_type": "code",
   "execution_count": 5,
   "id": "b4366f8f-daa8-4a8e-8adc-2f5c6d35ba2c",
   "metadata": {},
   "outputs": [
    {
     "data": {
      "text/plain": [
       "(2*i + 10 : 7*i + 2 : 1)"
      ]
     },
     "execution_count": 5,
     "metadata": {},
     "output_type": "execute_result"
    }
   ],
   "source": [
    "Q = E_Fq2(2 * Fq2.gen() + 10, 7 * Fq2.gen() + 2)\n",
    "# For Q = (x_q, y_q), both x_q = 2*i+10 and 7*i+2 are in Fq2\n",
    "Q"
   ]
  }
 ],
 "metadata": {
  "kernelspec": {
   "display_name": "SageMath 10.5",
   "language": "sage",
   "name": "sagemath"
  },
  "language_info": {
   "codemirror_mode": {
    "name": "ipython",
    "version": 3
   },
   "file_extension": ".py",
   "mimetype": "text/x-python",
   "name": "python",
   "nbconvert_exporter": "python",
   "pygments_lexer": "ipython3",
   "version": "3.12.5"
  }
 },
 "nbformat": 4,
 "nbformat_minor": 5
}
