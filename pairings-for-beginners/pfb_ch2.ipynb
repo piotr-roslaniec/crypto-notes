{
 "cells": [
  {
   "cell_type": "markdown",
   "id": "4a2430dd-cf83-448f-b019-4bc06764a175",
   "metadata": {},
   "source": [
    "### Example 2.0.1"
   ]
  },
  {
   "cell_type": "code",
   "execution_count": null,
   "id": "6cba3240-d288-45f2-819f-f989973e7680",
   "metadata": {},
   "outputs": [],
   "source": [
    "from sage.all import QQ, EllipticCurve, PolynomialRing\n",
    "\n",
    "# We need to define Qext to account for cases where our elliptic curve equation\n",
    "# E doesn't work for points in Q. For example: \n",
    "# For S = (0, y_s), y^2 = 0 - 2 = - 2, which has no solutions in Q.\n",
    "# However, if we extend Q as Q(alpha) where alpha^2 = -2, we can write S = (0, alpha)\n",
    "\n",
    "# Define the extension field over a field of rational numbers Q,\n",
    "# Qext = Q(alpha) where alpha^2 + 2 = 0\n",
    "R.<alpha> = PolynomialRing(QQ)\n",
    "QExt = QQ.extension(alpha^2 + 2, 'alpha')\n",
    "\n",
    "# Define the elliptic curve E: y^2 = x^3 - 2 over QExt\n",
    "E = EllipticCurve(QExt, [0, -2])\n",
    "\n",
    "# Extend the elliptic curve E over the field Qext\n",
    "Eext = E.change_ring(QExt)\n",
    "\n",
    "# Define points on the elliptic curve\n",
    "P1 = E([3, 5])        # Point P1 on E(Q)\n",
    "S = Eext([0, alpha])  # Point S on E(Qext)\n",
    "\n",
    "# Perform scalar multiplication\n",
    "P2 = 2 * P1\n",
    "P3 = 3 * P1\n",
    "\n",
    "# Print results\n",
    "print(f\"P: {P1}\")\n",
    "print(f\"2*P: {P2}\")\n",
    "print(f\"3*P: {P3}\")"
   ]
  },
  {
   "cell_type": "markdown",
   "id": "79986d32-751b-450d-ab02-dc8f30e793d9",
   "metadata": {},
   "source": [
    "### Example 2.0.2"
   ]
  },
  {
   "cell_type": "code",
   "execution_count": null,
   "id": "d78a860d-9691-4a6c-ba1f-340c32cae2a8",
   "metadata": {},
   "outputs": [],
   "source": [
    "from sage.all import GF, EllipticCurve\n",
    "\n",
    "# Define the finite field GF(11)\n",
    "q = 11\n",
    "Fq = GF(q)\n",
    "\n",
    "# Define the elliptic curve E: y^2 = x^3 + 4x + 3\n",
    "E_f = [4, 3]\n",
    "E_Fq = EllipticCurve(Fq, E_f)\n",
    "\n",
    "\n",
    "points = E_Fq.points()\n",
    "print(f\"Number of points on E_Fq: {len(points)}\")\n",
    "print(f\"Points on E_Fq: {points}\")\n",
    "print(f\"Point at infinity: {E_Fq(0)}\")\n",
    "\n",
    "# Define the quadratic extension field Fq2 = GF(q^2) with i^2 + 1 = 0\n",
    "Fq2 = GF(q ^ 2, name=\"i\", modulus=x ^ 2 + 1)\n",
    "\n",
    "# Define the elliptic curve over Fq2\n",
    "E_Fq2 = EllipticCurve(Fq2, E_f)\n",
    "\n",
    "points = E_Fq2.points()\n",
    "print(f\"Number of points on E_Fq2: {len(points)}\")\n",
    "print(f\"Points on E_Fq2: {points}\")\n",
    "print(f\"Point at infinity: {E_Fq2(0)}\")"
   ]
  },
  {
   "cell_type": "code",
   "execution_count": null,
   "id": "48d5c692-1e1c-4a08-a19c-c6452ff951d2",
   "metadata": {},
   "outputs": [],
   "source": [
    "# #E(Fq) | #E(Fq2), because E(Fq) is a subgroup of E(Fq2)\n",
    "len(E_Fq2.points()) % len(E_Fq.points()) == 0"
   ]
  },
  {
   "cell_type": "code",
   "execution_count": null,
   "id": "d08b3b46-c010-4f4f-bc5c-094a0db10deb",
   "metadata": {},
   "outputs": [],
   "source": [
    "P = E_Fq2(2, 5 * Fq2.gen())\n",
    "# For P = (x_p, y_p), x_p = 2 is in Fq and y_p = 5*i is in Fq2\n",
    "P"
   ]
  },
  {
   "cell_type": "code",
   "execution_count": null,
   "id": "b4366f8f-daa8-4a8e-8adc-2f5c6d35ba2c",
   "metadata": {},
   "outputs": [],
   "source": [
    "Q = E_Fq2(2 * Fq2.gen() + 10, 7 * Fq2.gen() + 2)\n",
    "# For Q = (x_q, y_q), both x_q = 2*i+10 and 7*i+2 are in Fq2\n",
    "Q"
   ]
  },
  {
   "cell_type": "markdown",
   "id": "18c2e34b-7933-40f4-9dce-b5aef9a075e6",
   "metadata": {},
   "source": [
    "### Example 2.1.1"
   ]
  },
  {
   "cell_type": "code",
   "execution_count": null,
   "id": "f405f778-5d01-4b24-84ec-e9492b9b7d67",
   "metadata": {},
   "outputs": [],
   "source": [
    "from sage.all import RealField, PolynomialRing, EllipticCurve\n",
    "\n",
    "R = RealField()\n",
    "\n",
    "# Define the polynomial ring over rational numbers\n",
    "Poly.<x> = PolynomialRing(R)\n",
    "\n",
    "# Define the polynomial f: y = x^3 - 2x\n",
    "f = x^3 - 2*x + 0\n",
    "\n",
    "# Line l: y = x\n",
    "y = x\n",
    "\n",
    "roots = (y^2 -f).roots(multiplicities=False)\n",
    "print(f\"Roots of y^2 = x^3 - 2x with l: y = x: {roots}\")\n",
    "\n",
    "# Define the elliptic curve E: y^2 = x^3 - 2x over the rationals\n",
    "E = EllipticCurve(R, [0, 0, 0, -2, 0])\n",
    "\n",
    "# Define points on the elliptic curve using our roots\n",
    "# P = (roots[i], roots[i]) because l: y = x\n",
    "P1 = E(roots[0], roots[0])\n",
    "P2 = E(roots[1], roots[1])  \n",
    "P3 = E(roots[2], roots[2])  \n",
    "\n",
    "# Perform point addition\n",
    "print(f\"P1 + P2 = {P1} + {P2} = {P1 + P2}\")\n",
    "print(f\"P2 + P3 = {P2} + {P3} = {P2 + P3}\")\n",
    "print(f\"P1 + P3 = {P1} + {P3} = {P1 + P3}\")\n",
    "print(f\"P2 + P2 = {P2} + {P2} = {P2 + P2}\")  # Doubling P2\n",
    "\n",
    "# Define a new line equation l': y = -1/2 * x - 3/2\n",
    "# This is the tangent line to E at (-1, -1)\n",
    "y_new = -1/2 * x - 3/2\n",
    "roots_new = (y_new^2 - f).roots(multiplicities=False)\n",
    "print(f\"Roots of y^2 = x^3 - 2x with l': y = -1/2*x - 3/2: {roots_new}\")\n",
    "\n",
    "# Scalar multiplication\n",
    "print(f\"2 * {P2} = {2 * P2}\")"
   ]
  },
  {
   "cell_type": "markdown",
   "id": "865a4c6d-f09e-4940-bc4d-055874f665b3",
   "metadata": {},
   "source": [
    "### Example 2.1.2"
   ]
  },
  {
   "cell_type": "code",
   "execution_count": null,
   "id": "e54eb5ee-3d72-4398-9195-39953d021add",
   "metadata": {},
   "outputs": [],
   "source": [
    "from sage.all import GF, PolynomialRing, EllipticCurve\n",
    "\n",
    "# Define the finite field GF(11)\n",
    "q = 11\n",
    "Fq = GF(q)\n",
    "\n",
    "# Define the polynomial ring over Fq\n",
    "Poly.<x> = PolynomialRing(Fq)\n",
    "\n",
    "# Define the polynomial f: y = x^3 - 2x\n",
    "f = x^3 - 2*x\n",
    "\n",
    "# Line l: y = x\n",
    "y = x\n",
    "\n",
    "roots = (y^2 -f).roots(multiplicities=False)\n",
    "print(f\"Roots of y^2 = x^3 - 2x with l: y = x: {roots}\")\n",
    "\n",
    "# Define the elliptic curve E: y^2 = x^3 - 2x over Fq\n",
    "E = EllipticCurve(Fq, [0, 0, 0, -2, 0])\n",
    "\n",
    "P = E([5, 7])\n",
    "Q = E([8, 10])\n",
    "\n",
    "print(f\"P = {P}\")\n",
    "print(f\"Q = {Q}\")\n",
    "\n",
    "# Tangent line between P and Q l': y = x + 2\n",
    "y = x + 2\n",
    "\n",
    "roots = (y^2 -f).roots(multiplicities=False)\n",
    "print(f\"Roots of y^2 = x^3 - 2x: {roots}\")\n",
    "\n",
    "print(f\"P + Q = {P} + {Q} = {P + Q}\")\n"
   ]
  },
  {
   "cell_type": "code",
   "execution_count": null,
   "id": "9d69de2f-95ea-436c-88b9-d2da7436a354",
   "metadata": {},
   "outputs": [],
   "source": []
  }
 ],
 "metadata": {
  "kernelspec": {
   "display_name": "SageMath 10.5",
   "language": "sage",
   "name": "sagemath"
  },
  "language_info": {
   "codemirror_mode": {
    "name": "ipython",
    "version": 3
   },
   "file_extension": ".py",
   "mimetype": "text/x-python",
   "name": "python",
   "nbconvert_exporter": "python",
   "pygments_lexer": "ipython3",
   "version": "3.12.5"
  }
 },
 "nbformat": 4,
 "nbformat_minor": 5
}
