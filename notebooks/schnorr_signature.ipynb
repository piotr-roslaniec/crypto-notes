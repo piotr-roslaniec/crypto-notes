{
 "cells": [
  {
   "metadata": {},
   "cell_type": "markdown",
   "source": "# Schnorr Signature",
   "id": "4e085388bb30ef2a"
  },
  {
   "metadata": {
    "ExecuteTime": {
     "end_time": "2024-08-08T10:41:38.668923Z",
     "start_time": "2024-08-08T10:41:38.661938Z"
    }
   },
   "cell_type": "code",
   "source": [
    "import hashlib\n",
    "import random\n",
    "\n",
    "import galois\n",
    "\n",
    "# Define our field\n",
    "GF = galois.GF(2**8)\n",
    "G = GF.primitive_element\n",
    "\n",
    "\n",
    "def rand_scalar():\n",
    "    return random.randint(0, GF.order - 1)\n",
    "\n",
    "\n",
    "# Alice computes her secret key a and her public key A\n",
    "a = rand_scalar()\n",
    "A = a * G\n",
    "\n",
    "# Picks a random nonce r and crates a commitment R\n",
    "r = rand_scalar()\n",
    "R = r * G\n",
    "\n",
    "# Blinds her secret key and creates a signature s, sends (R, s)\n",
    "s = a + r\n",
    "\n",
    "# Bob verifies that the s matches Alice's public key A and the commitment R\n",
    "assert s * G == A + R"
   ],
   "id": "ab5d3a6b6d223677",
   "outputs": [],
   "execution_count": 57
  },
  {
   "metadata": {},
   "cell_type": "markdown",
   "source": "This scheme is susceptible to a forgery attack:",
   "id": "37831302d2abc000"
  },
  {
   "metadata": {
    "ExecuteTime": {
     "end_time": "2024-08-08T10:41:38.682147Z",
     "start_time": "2024-08-08T10:41:38.671422Z"
    }
   },
   "cell_type": "code",
   "source": [
    "# Alice uses a random signature s'\n",
    "s_prime = rand_scalar()\n",
    "\n",
    "# Forges the commitment R', sends (R', s') to Bob\n",
    "R_prime = s_prime * G - A\n",
    "\n",
    "# Bob checks (R', s')\n",
    "assert s_prime * G == A + R_prime"
   ],
   "id": "7566e9a14d714951",
   "outputs": [],
   "execution_count": 58
  },
  {
   "metadata": {
    "ExecuteTime": {
     "end_time": "2024-08-08T10:41:38.689802Z",
     "start_time": "2024-08-08T10:41:38.683998Z"
    }
   },
   "cell_type": "code",
   "source": [
    "%%latex\n",
    "\n",
    "The public key $A$ cancels out, so the equation holds for any $s$\n",
    "\n",
    "$$s\\prime G \\stackrel{?}{=} A+R\\prime$$\n",
    "\n",
    "becomes\n",
    "\n",
    "$$s\\prime G \\stackrel{?}{=} A+R\\prime = A + (s\\prime G-A)$$\n",
    "\n",
    "So how do we fix that?\n",
    "\n",
    "The problem is that Alice picks $(R, s)$. But, Bob can influence her by issuing a challenge $c$. $c$ is a random number that instructs alice how many times to subtract the public key."
   ],
   "id": "c05fb6255d0743da",
   "outputs": [
    {
     "data": {
      "text/plain": [
       "<IPython.core.display.Latex object>"
      ],
      "text/latex": "\nThe public key $A$ cancels out, so the equation holds for any $s$\n\n$$s\\prime G \\stackrel{?}{=} A+R\\prime$$\n\nbecomes\n\n$$s\\prime G \\stackrel{?}{=} A+R\\prime = A + (s\\prime G-A)$$\n\nSo how do we fix that?\n\nThe problem is that Alice picks $(R, s)$. But, Bob can influence her by issuing a challenge $c$. $c$ is a random number that instructs alice how many times to subtract the public key.\n"
     },
     "metadata": {},
     "output_type": "display_data"
    }
   ],
   "execution_count": 59
  },
  {
   "metadata": {
    "ExecuteTime": {
     "end_time": "2024-08-08T10:41:38.707852Z",
     "start_time": "2024-08-08T10:41:38.702784Z"
    }
   },
   "cell_type": "code",
   "source": [
    "# Alice commits to r and creates a commitment R = rG, and sends it to Bob\n",
    "R = r * G\n",
    "\n",
    "# Bob creates a random challenge c, and sends it to Alice\n",
    "c = rand_scalar()\n",
    "\n",
    "# Alice creates a signature s using the challenge c, and sends it to Bob\n",
    "s = c * a + r\n",
    "\n",
    "# Bob verifies the signature\n",
    "assert s * G == c * A + R"
   ],
   "id": "7349075ef4ec278f",
   "outputs": [],
   "execution_count": 60
  },
  {
   "metadata": {
    "ExecuteTime": {
     "end_time": "2024-08-08T10:41:38.715395Z",
     "start_time": "2024-08-08T10:41:38.709796Z"
    }
   },
   "cell_type": "code",
   "source": [
    "%%latex\n",
    "\n",
    "So after the inclusion of challenge $c$, our verification\n",
    "\n",
    "$$sG \\stackrel{?}{=} cA+R$$\n",
    "\n",
    "becomes\n",
    "\n",
    "$$(ca+r)G \\stackrel{?}{=} (caG)+(rG) = (ca+r)G$$\n",
    "\n",
    "\n",
    "Our protocol is now sound, which means that Bob (the verifier) can be confident that they will not be cheated by Alice (the prover).\n",
    "\n",
    "There is one more thing we can do to improve it. Currently, our protocol is interactive but we may apply the Fiat-Shamir transformation to the challenge produced by Alice."
   ],
   "id": "7d9372770dac7154",
   "outputs": [
    {
     "data": {
      "text/plain": [
       "<IPython.core.display.Latex object>"
      ],
      "text/latex": "\nSo after the inclusion of challenge $c$, our verification\n\n$$sG \\stackrel{?}{=} cA+R$$\n\nbecomes\n\n$$(ca+r)G \\stackrel{?}{=} (caG)+(rG) = (ca+r)G$$\n\n\nOur protocol is now sound, which means that Bob (the verifier) can be confident that they will not be cheated by Alice (the prover).\n\nThere is one more thing we can do to improve it. Currently, our protocol is interactive but we may apply the Fiat-Shamir transformation to the challenge produced by Alice.\n"
     },
     "metadata": {},
     "output_type": "display_data"
    }
   ],
   "execution_count": 61
  },
  {
   "metadata": {
    "ExecuteTime": {
     "end_time": "2024-08-08T10:41:38.725109Z",
     "start_time": "2024-08-08T10:41:38.719007Z"
    }
   },
   "cell_type": "code",
   "source": [
    "def hash(msg):\n",
    "    return int(hashlib.sha256(msg.tobytes()).hexdigest(), 16) % GF.order\n",
    "\n",
    "\n",
    "# Alice commits to r and creates a commitment R = rG, and sends it to Bob\n",
    "R = r * G\n",
    "\n",
    "# Computes a challenge c using a hash function\n",
    "c = hash(R)\n",
    "\n",
    "# Creates a signature s using the challenge c, and sends (R, s) to Bob\n",
    "s = c * a + r\n",
    "\n",
    "# Bob compute challenge c' using R\n",
    "c_prime = hash(R)\n",
    "\n",
    "# Verifies the signature\n",
    "assert s * G == c_prime * A + R"
   ],
   "id": "dc466a288ac72848",
   "outputs": [],
   "execution_count": 62
  },
  {
   "metadata": {
    "ExecuteTime": {
     "end_time": "2024-08-08T10:41:38.731479Z",
     "start_time": "2024-08-08T10:41:38.728519Z"
    }
   },
   "cell_type": "code",
   "source": "",
   "id": "e0e594336e9889e7",
   "outputs": [],
   "execution_count": 62
  }
 ],
 "metadata": {
  "kernelspec": {
   "display_name": "Python 3",
   "language": "python",
   "name": "python3"
  },
  "language_info": {
   "codemirror_mode": {
    "name": "ipython",
    "version": 2
   },
   "file_extension": ".py",
   "mimetype": "text/x-python",
   "name": "python",
   "nbconvert_exporter": "python",
   "pygments_lexer": "ipython2",
   "version": "2.7.6"
  }
 },
 "nbformat": 4,
 "nbformat_minor": 5
}
