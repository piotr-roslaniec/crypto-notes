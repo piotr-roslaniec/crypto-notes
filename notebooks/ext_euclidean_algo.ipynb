{
 "cells": [
  {
   "metadata": {},
   "cell_type": "markdown",
   "source": "# Extended Euclidean Algorithm",
   "id": "b7ec4dba6da29332"
  },
  {
   "metadata": {
    "ExecuteTime": {
     "end_time": "2024-08-22T09:46:20.238863Z",
     "start_time": "2024-08-22T09:46:20.235114Z"
    }
   },
   "cell_type": "code",
   "source": [
    "# Euclidean Algorithm\n",
    "def gcd(a, b):\n",
    "    if a < b: \n",
    "        a, b = b, a\n",
    "    while True:\n",
    "        r = a % b\n",
    "        print(a, b, r)\n",
    "        if r == 0:\n",
    "            return b\n",
    "        a, b = b, r\n",
    "\n",
    "\n",
    "assert gcd(30, 24) == 6"
   ],
   "id": "64ceb7f142da8f21",
   "outputs": [
    {
     "name": "stdout",
     "output_type": "stream",
     "text": [
      "30 24 6\n",
      "24 6 0\n"
     ]
    }
   ],
   "execution_count": 7
  },
  {
   "metadata": {
    "ExecuteTime": {
     "end_time": "2024-08-22T09:55:19.120898Z",
     "start_time": "2024-08-22T09:55:19.114558Z"
    }
   },
   "cell_type": "code",
   "source": [
    "# Extended Euclidean Algorithm\n",
    "def gcd(a, b):\n",
    "    x1, y1, x2, y2 = 1, 0, 0, 1\n",
    "\n",
    "    while b:\n",
    "        q = a // b\n",
    "        a, b = b, a % b\n",
    "        x1, x2 = x2, x1 - q * x2\n",
    "        y1, y2 = y2, y1 - q * y2\n",
    "        print(a, x1, y1, q)\n",
    "\n",
    "    return a, x1, y1\n",
    "\n",
    "\n",
    "assert gcd(54, 22) == (2, -2, 5)"
   ],
   "id": "2bddd29b0609452a",
   "outputs": [
    {
     "name": "stdout",
     "output_type": "stream",
     "text": [
      "22 0 1 2\n",
      "10 1 -2 2\n",
      "2 -2 5 5\n"
     ]
    }
   ],
   "execution_count": 14
  },
  {
   "metadata": {},
   "cell_type": "code",
   "outputs": [],
   "execution_count": null,
   "source": "",
   "id": "3fc323e6a925929f"
  }
 ],
 "metadata": {
  "kernelspec": {
   "display_name": "Python 3",
   "language": "python",
   "name": "python3"
  },
  "language_info": {
   "codemirror_mode": {
    "name": "ipython",
    "version": 2
   },
   "file_extension": ".py",
   "mimetype": "text/x-python",
   "name": "python",
   "nbconvert_exporter": "python",
   "pygments_lexer": "ipython2",
   "version": "2.7.6"
  }
 },
 "nbformat": 4,
 "nbformat_minor": 5
}
