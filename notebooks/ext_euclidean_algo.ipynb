{
 "cells": [
  {
   "metadata": {},
   "cell_type": "markdown",
   "source": "# Extended Euclidean Algorithm",
   "id": "b7ec4dba6da29332"
  },
  {
   "metadata": {
    "ExecuteTime": {
     "end_time": "2024-08-22T09:46:20.238863Z",
     "start_time": "2024-08-22T09:46:20.235114Z"
    }
   },
   "cell_type": "code",
   "source": [
    "# Euclidean Algorithm\n",
    "def gcd(a, b):\n",
    "    if a < b:\n",
    "        a, b = b, a\n",
    "    while True:\n",
    "        r = a % b\n",
    "        print(a, b, r)\n",
    "        if r == 0:\n",
    "            return b\n",
    "        a, b = b, r\n",
    "\n",
    "\n",
    "assert gcd(30, 24) == 6"
   ],
   "id": "64ceb7f142da8f21",
   "outputs": [
    {
     "name": "stdout",
     "output_type": "stream",
     "text": [
      "30 24 6\n",
      "24 6 0\n"
     ]
    }
   ],
   "execution_count": 7
  },
  {
   "metadata": {},
   "cell_type": "markdown",
   "source": [
    "## Extended Euclidean Algorithm Example\n",
    "\n",
    "We derive steps in the algorithm from Bézout's identity:\n",
    "\n",
    "$ax + by = gcd(a, b)$\n",
    "\n",
    "\n",
    "Manually solving $gcd(240,46)$:\n",
    "\n",
    "| Step | a   | x1  | y1   | Quotient (q) | Equation             |\n",
    "|------|-----|-----|------|--------------|----------------------|\n",
    "| 0    | 240 | 1   | 0    | -            | 240 = 1(240) + 0(46) |\n",
    "| 1    | 46  | 0   | 1    | 5            | 46 = 0(240) + 1(46)  |\n",
    "| 2    | 10  | 1   | -5   | 4            | 10 = 1(240) - 5(46)  |\n",
    "| 3    | 6   | -4  | 21   | 1            | 6 = -4(240) + 21(46) |\n",
    "| 4    | 4   | 5   | -26  | 1            | 4 = 5(240) - 26(46)  |\n",
    "| 5    | 2   | -9  | 47   | 2            | 2 = -9(240) + 47(46) |\n",
    "| 6    | 0   | 23  | -120 | -            | 0 = 23(240) - 120(46)|\n",
    "\n",
    "\n"
   ],
   "id": "3a3089ed95794ce4"
  },
  {
   "metadata": {
    "ExecuteTime": {
     "end_time": "2024-08-22T10:14:15.507982Z",
     "start_time": "2024-08-22T10:14:15.498514Z"
    }
   },
   "cell_type": "code",
   "source": [
    "# Extended Euclidean Algorithm\n",
    "\n",
    "\n",
    "def ext_gcd(a, b):\n",
    "    x1, y1, x2, y2 = 1, 0, 0, 1\n",
    "\n",
    "    while b:\n",
    "        q = a // b\n",
    "        a, b = b, a % b\n",
    "        x1, x2 = x2, x1 - q * x2\n",
    "        y1, y2 = y2, y1 - q * y2\n",
    "        print(a, x1, y1, q)\n",
    "\n",
    "    return a, x1, y1\n",
    "\n",
    "\n",
    "assert ext_gcd(240, 46) == (2, -9, 47)\n",
    "\n",
    "# Manual verification\n",
    "assert 240 * -9 + 46 * 47 == 2"
   ],
   "id": "2bddd29b0609452a",
   "outputs": [
    {
     "name": "stdout",
     "output_type": "stream",
     "text": [
      "46 0 1 5\n",
      "10 1 -5 4\n",
      "6 -4 21 1\n",
      "4 5 -26 1\n",
      "2 -9 47 2\n"
     ]
    }
   ],
   "execution_count": 4
  },
  {
   "metadata": {},
   "cell_type": "code",
   "outputs": [],
   "execution_count": null,
   "source": "",
   "id": "3fc323e6a925929f"
  }
 ],
 "metadata": {
  "kernelspec": {
   "display_name": "Python 3",
   "language": "python",
   "name": "python3"
  },
  "language_info": {
   "codemirror_mode": {
    "name": "ipython",
    "version": 2
   },
   "file_extension": ".py",
   "mimetype": "text/x-python",
   "name": "python",
   "nbconvert_exporter": "python",
   "pygments_lexer": "ipython2",
   "version": "2.7.6"
  }
 },
 "nbformat": 4,
 "nbformat_minor": 5
}
