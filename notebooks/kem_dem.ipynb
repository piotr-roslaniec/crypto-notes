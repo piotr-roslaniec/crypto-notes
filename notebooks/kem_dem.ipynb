{
 "cells": [
  {
   "metadata": {},
   "cell_type": "markdown",
   "source": "# KEM-DEM framework\n",
   "id": "fd2d779c5392af84"
  },
  {
   "metadata": {},
   "cell_type": "markdown",
   "source": "## AES encapsulation with RSA - Padding",
   "id": "a00283a23a3aec50"
  },
  {
   "metadata": {
    "ExecuteTime": {
     "end_time": "2024-08-08T09:04:55.393560Z",
     "start_time": "2024-08-08T09:04:55.373520Z"
    }
   },
   "cell_type": "code",
   "source": [
    "import os\n",
    "\n",
    "from cryptography.hazmat.backends import default_backend\n",
    "from cryptography.hazmat.primitives import hashes\n",
    "from cryptography.hazmat.primitives.asymmetric import padding, rsa\n",
    "from cryptography.hazmat.primitives.ciphers import Cipher, algorithms, modes\n",
    "\n",
    "\n",
    "def encapsulate_key_rsa(key, iv, public_key):\n",
    "    # Notice that we're using OAEP padding here\n",
    "    ct_key = public_key.encrypt(\n",
    "        key, padding.OAEP(mgf=padding.MGF1(algorithm=hashes.SHA256()), algorithm=hashes.SHA256(), label=None)\n",
    "    )\n",
    "    ct_iv = public_key.encrypt(\n",
    "        iv, padding.OAEP(mgf=padding.MGF1(algorithm=hashes.SHA256()), algorithm=hashes.SHA256(), label=None)\n",
    "    )\n",
    "    return ct_key, ct_iv\n",
    "\n",
    "\n",
    "def decapsulate_key_rsa(kem_capsule, private_key):\n",
    "    ct_key, ct_iv = kem_capsule\n",
    "    key = private_key.decrypt(\n",
    "        ct_key, padding.OAEP(mgf=padding.MGF1(algorithm=hashes.SHA256()), algorithm=hashes.SHA256(), label=None)\n",
    "    )\n",
    "    iv = private_key.decrypt(\n",
    "        ct_iv, padding.OAEP(mgf=padding.MGF1(algorithm=hashes.SHA256()), algorithm=hashes.SHA256(), label=None)\n",
    "    )\n",
    "    return key, iv\n",
    "\n",
    "\n",
    "def encrypt_message_aes(message, key, iv):\n",
    "    cipher = Cipher(algorithms.AES(key), modes.CBC(iv), backend=default_backend())\n",
    "    encryptor = cipher.encryptor()\n",
    "    ct = encryptor.update(message) + encryptor.finalize()\n",
    "    return ct\n",
    "\n",
    "\n",
    "def decrypt_message_aes(ciphertext, key, iv):\n",
    "    cipher = Cipher(algorithms.AES(key), modes.CBC(iv), backend=default_backend())\n",
    "    decryptor = cipher.decryptor()\n",
    "    pt = decryptor.update(ciphertext) + decryptor.finalize()\n",
    "    return pt\n",
    "\n",
    "\n",
    "# Alice wants to send an encrypted message to Bob\n",
    "\n",
    "# Alice generates a random AES key and IV\n",
    "alice_key = os.urandom(32)  # 256-bit key\n",
    "alice_iv = os.urandom(16)  # 128-bit IV\n",
    "\n",
    "# Bob generates an RSA key pair\n",
    "bob_private_key = rsa.generate_private_key(public_exponent=65537, key_size=2048, backend=default_backend())\n",
    "\n",
    "# Bob's public key is shared with Alice\n",
    "bob_public_key = bob_private_key.public_key()\n",
    "\n",
    "# Alice encapsulates the key and IV using Bob's public key\n",
    "kem_capsule = encapsulate_key_rsa(alice_key, alice_iv, bob_public_key)\n",
    "\n",
    "# Alice encrypts the message using the AES key and IV\n",
    "# We need to pad this message to be a multiple of 16 bytes\n",
    "pt = b\"Hello, Bob!\" + b\"\\x00\" * (16 - len(b\"Hello, Bob!\") % 16)\n",
    "ct = encrypt_message_aes(pt, alice_key, alice_iv)\n",
    "\n",
    "# Bob decapsulates the key and IV using his private key\n",
    "bob_key, bob_iv = decapsulate_key_rsa(kem_capsule, bob_private_key)\n",
    "\n",
    "# Bob decrypts the message using the AES key and IV\n",
    "pt2 = decrypt_message_aes(ct, bob_key, bob_iv)\n",
    "\n",
    "assert pt == pt2"
   ],
   "id": "d1306db5ffc1259c",
   "outputs": [],
   "execution_count": 6
  },
  {
   "metadata": {
    "ExecuteTime": {
     "end_time": "2024-08-08T09:04:55.397579Z",
     "start_time": "2024-08-08T09:04:55.395302Z"
    }
   },
   "cell_type": "code",
   "source": "",
   "id": "85745c2b217a06f9",
   "outputs": [],
   "execution_count": 6
  }
 ],
 "metadata": {
  "kernelspec": {
   "display_name": "Python 3",
   "language": "python",
   "name": "python3"
  },
  "language_info": {
   "codemirror_mode": {
    "name": "ipython",
    "version": 2
   },
   "file_extension": ".py",
   "mimetype": "text/x-python",
   "name": "python",
   "nbconvert_exporter": "python",
   "pygments_lexer": "ipython2",
   "version": "2.7.6"
  }
 },
 "nbformat": 4,
 "nbformat_minor": 5
}
