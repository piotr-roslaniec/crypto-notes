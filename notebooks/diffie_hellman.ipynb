{
 "cells": [
  {
   "metadata": {},
   "cell_type": "markdown",
   "source": "# Diffie-Hellman Key Exchange",
   "id": "9a649e38097a6892"
  },
  {
   "metadata": {
    "ExecuteTime": {
     "end_time": "2024-08-08T08:32:38.378355Z",
     "start_time": "2024-08-08T08:32:38.372497Z"
    }
   },
   "cell_type": "code",
   "source": [
    "import hashlib\n",
    "import random\n",
    "\n",
    "import galois\n",
    "\n",
    "# Define our field\n",
    "GF = galois.GF(2**8)\n",
    "G = GF.primitive_element\n",
    "\n",
    "\n",
    "def rand_scalar():\n",
    "    return random.randint(0, GF.order - 1)\n",
    "\n",
    "\n",
    "# Alice generates a random scalar `a` and computes `A = g^a`.\n",
    "a = rand_scalar()\n",
    "A = G**a\n",
    "\n",
    "# Bob generates a random scalar `b` and computes `B = g^b`.\n",
    "b = rand_scalar()\n",
    "B = G**b\n",
    "\n",
    "# Alice and Bob exchange `A` and `B` over the insecure channel.\n",
    "\n",
    "# Alice computes the shared secret key as `B^a`.\n",
    "alice_S = B**a\n",
    "\n",
    "# Bob computes the shared secret key as `A^b`.\n",
    "bob_S = A**b\n",
    "\n",
    "assert alice_S == bob_S"
   ],
   "id": "c57ed2be01ff6a42",
   "outputs": [],
   "execution_count": 69
  },
  {
   "metadata": {},
   "cell_type": "markdown",
   "source": [
    "## XOR Encryption\n",
    "We can use the shared secret key to encrypt and decrypt messages using the XOR cipher. Let's define a simple XOR encryption and decryption function."
   ],
   "id": "aaad0975954a3846"
  },
  {
   "metadata": {
    "ExecuteTime": {
     "end_time": "2024-08-08T08:32:38.395050Z",
     "start_time": "2024-08-08T08:32:38.380623Z"
    }
   },
   "cell_type": "code",
   "source": [
    "def xor_encrypt(msg, key):\n",
    "    return bytes([m ^ key[i % len(key)] for i, m in enumerate(msg)])\n",
    "\n",
    "\n",
    "def xor_decrypt(ciphertext, key):\n",
    "    return bytes([c ^ key[i % len(key)] for i, c in enumerate(ciphertext)])\n",
    "\n",
    "\n",
    "# We transform the shared secret into a symmetric key by hashing it\n",
    "shared_secret = int(alice_S)\n",
    "symm_key = hashlib.sha256(shared_secret.to_bytes(length=shared_secret.bit_length(), byteorder=\"big\")).digest()\n",
    "\n",
    "# Alice encrypts a message to Bob using the shared secret key.\n",
    "msg = b\"Hello, Bob!\"\n",
    "ciphertext = xor_encrypt(msg, symm_key)\n",
    "\n",
    "# Bob decrypts the message using the shared secret key.\n",
    "decrypted_msg = xor_decrypt(ciphertext, symm_key)\n",
    "\n",
    "assert decrypted_msg == msg"
   ],
   "id": "1edd419710b647d0",
   "outputs": [],
   "execution_count": 70
  },
  {
   "metadata": {
    "ExecuteTime": {
     "end_time": "2024-08-08T08:32:38.398540Z",
     "start_time": "2024-08-08T08:32:38.396645Z"
    }
   },
   "cell_type": "code",
   "source": "",
   "id": "79b0a8e560ae1071",
   "outputs": [],
   "execution_count": 70
  }
 ],
 "metadata": {
  "kernelspec": {
   "display_name": "Python 3",
   "language": "python",
   "name": "python3"
  },
  "language_info": {
   "codemirror_mode": {
    "name": "ipython",
    "version": 2
   },
   "file_extension": ".py",
   "mimetype": "text/x-python",
   "name": "python",
   "nbconvert_exporter": "python",
   "pygments_lexer": "ipython2",
   "version": "2.7.6"
  }
 },
 "nbformat": 4,
 "nbformat_minor": 5
}
