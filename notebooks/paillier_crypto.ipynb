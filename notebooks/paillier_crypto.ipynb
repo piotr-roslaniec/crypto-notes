{
 "cells": [
  {
   "metadata": {},
   "cell_type": "markdown",
   "source": [
    "# Paillier Cryptosystem\n",
    "\n",
    "\n",
    "The Paillier cryptosystem is a partial homomorphic encryption scheme which allows two types of computation:\n",
    "- addition of two ciphertexts\n",
    "- multiplication of a ciphertext by a plaintext number\n"
   ],
   "id": "575c253415320f7"
  },
  {
   "metadata": {
    "ExecuteTime": {
     "end_time": "2024-08-22T09:57:30.682853Z",
     "start_time": "2024-08-22T09:57:30.111309Z"
    }
   },
   "cell_type": "code",
   "source": [
    "import random\n",
    "\n",
    "import galois\n",
    "\n",
    "order = 2**8\n",
    "\n",
    "\n",
    "# Helper functions\n",
    "\n",
    "\n",
    "def rand_int(n=order - 1):\n",
    "    return random.randint(0, n)\n",
    "\n",
    "\n",
    "def rand_prime(n=order):\n",
    "    return galois.random_prime(n)\n",
    "\n",
    "\n",
    "# Greatest common divisor\n",
    "def gcd(a, b):\n",
    "    while b != 0:\n",
    "        a, b = b, a % b\n",
    "    return a\n",
    "\n",
    "\n",
    "# Least common multiple\n",
    "def lcm(a, b):\n",
    "    return a * b // gcd(a, b)\n",
    "\n",
    "\n",
    "# Modular multiplicative inverse\n",
    "def modinv(a, m):\n",
    "    m0, x0, x1 = m, 0, 1\n",
    "    while a > 1:\n",
    "        q = a // m\n",
    "        m, a = a % m, m\n",
    "        x0, x1 = x1 - q * x0, x0\n",
    "    return x1 + m0 if x1 < 0 else x1\n",
    "\n",
    "\n",
    "def L(x, n):\n",
    "    return (x - 1) // n\n",
    "\n",
    "\n",
    "def key_gen():\n",
    "    # First, we need to find p and q\n",
    "    while True:\n",
    "        p = rand_prime()\n",
    "        q = rand_prime()\n",
    "        while gcd(p * q, (p - 1) * (q - 1)) != 1:\n",
    "            p = rand_prime()\n",
    "            q = rand_prime()\n",
    "\n",
    "        n = p * q\n",
    "        lam = lcm(p - 1, q - 1)\n",
    "        g = rand_int(n**2)\n",
    "\n",
    "        try:\n",
    "            L_value = L(pow(g, lam, n**2), n)\n",
    "            mu = modinv(L_value, n)\n",
    "        except ZeroDivisionError:\n",
    "            mu = None\n",
    "        if mu is None:\n",
    "            continue\n",
    "\n",
    "        return (n, g), lam\n",
    "\n",
    "\n",
    "def encrypt(n, g, m):\n",
    "    assert m < n\n",
    "    r = rand_int(n)\n",
    "    c = pow(g, m, n**2) * pow(r, n, n**2) % n**2\n",
    "    return c\n",
    "\n",
    "\n",
    "def decrypt(lam, c, n, g):\n",
    "    assert c < n**2\n",
    "\n",
    "    # We are recalculating mu from known parameters\n",
    "    L_value = L(pow(g, lam, n**2), n)\n",
    "    mu = modinv(L_value, n)\n",
    "\n",
    "    m = L(pow(c, lam, n**2), n) * mu % n\n",
    "    return m\n",
    "\n",
    "\n",
    "pk, sk = key_gen()\n",
    "\n",
    "message = rand_int()\n",
    "print(f\"Original message: {message}\")\n",
    "\n",
    "encrypted = encrypt(*pk, message)\n",
    "print(f\"Encrypted message: {encrypted}\")\n",
    "\n",
    "decrypted = decrypt(sk, encrypted, *pk)\n",
    "print(f\"Decrypted message: {decrypted}\")\n",
    "\n",
    "assert message == decrypted, \"Decryption failed!\""
   ],
   "id": "c3d1df5373da8fc4",
   "outputs": [
    {
     "name": "stdout",
     "output_type": "stream",
     "text": [
      "Original message: 87\n",
      "Encrypted message: 274501753023609521124997256253246571386568943951164494136484192458069962359677540400812003499475392945392946686497498106133271006899564735192785122640447554055308291936331640389001866848253019590799405283526112213145868910100487986229134068038740779786072620657562439987326674247176461210254771972800642382417\n",
      "Decrypted message: 87\n"
     ]
    }
   ],
   "execution_count": 1
  },
  {
   "metadata": {},
   "cell_type": "code",
   "outputs": [],
   "execution_count": null,
   "source": "",
   "id": "d8ceca2edd1d12c6"
  }
 ],
 "metadata": {
  "kernelspec": {
   "display_name": "Python 3",
   "language": "python",
   "name": "python3"
  },
  "language_info": {
   "codemirror_mode": {
    "name": "ipython",
    "version": 2
   },
   "file_extension": ".py",
   "mimetype": "text/x-python",
   "name": "python",
   "nbconvert_exporter": "python",
   "pygments_lexer": "ipython2",
   "version": "2.7.6"
  }
 },
 "nbformat": 4,
 "nbformat_minor": 5
}
