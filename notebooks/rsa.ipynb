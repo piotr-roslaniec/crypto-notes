{
 "cells": [
  {
   "metadata": {},
   "cell_type": "markdown",
   "source": [
    "# RSA\n",
    "\n",
    "First, an example by hand:"
   ],
   "id": "64f294c615b6fed2"
  },
  {
   "metadata": {
    "ExecuteTime": {
     "end_time": "2024-08-28T16:07:42.801171Z",
     "start_time": "2024-08-28T16:07:42.794803Z"
    }
   },
   "cell_type": "code",
   "source": [
    "# Helpers\n",
    "import random\n",
    "\n",
    "\n",
    "def ext_gcd(a, b):\n",
    "    x1, y1, x2, y2 = 1, 0, 0, 1\n",
    "\n",
    "    while b:\n",
    "        q = a // b\n",
    "        a, b = b, a % b\n",
    "        x1, x2 = x2, x1 - q * x2\n",
    "        y1, y2 = y2, y1 - q * y2\n",
    "\n",
    "    return a, x1, y1\n",
    "\n",
    "\n",
    "# Key generation\n",
    "p, q = 5, 7\n",
    "n = p * q\n",
    "print(f\"p={p}, q={q}, n={n}\")\n",
    "\n",
    "phi = (p - 1) * (q - 1)\n",
    "print(f\"phi={phi}\")\n",
    "\n",
    "e = 5\n",
    "a, d, _ = ext_gcd(e, phi)\n",
    "assert a == 1, \"e and phi must be coprime\"\n",
    "print(f\"public key, e={e}\")\n",
    "print(f\"secret key, d={d}\")\n",
    "\n",
    "# Encryption\n",
    "m = 4\n",
    "c = m ^ e\n",
    "print(f\"ciphertext, c={c}\")\n",
    "\n",
    "# Decryption\n",
    "M = c ^ e\n",
    "print(f\"plaintext, M={M}\")\n",
    "assert m == M, \"message m and plaintext M must match\""
   ],
   "id": "990dbac6a4bfb9de",
   "outputs": [
    {
     "name": "stdout",
     "output_type": "stream",
     "text": [
      "p=5, q=7, n=35\n",
      "phi=24\n",
      "public key, e=5\n",
      "secret key, d=5\n",
      "ciphertext, c=1\n",
      "plaintext, M=4\n"
     ]
    }
   ],
   "execution_count": 461
  },
  {
   "metadata": {
    "ExecuteTime": {
     "end_time": "2024-08-28T16:08:15.792498Z",
     "start_time": "2024-08-28T16:08:15.780317Z"
    }
   },
   "cell_type": "code",
   "source": [
    "order = 2**8\n",
    "\n",
    "\n",
    "# Utilities\n",
    "\n",
    "\n",
    "def is_prime(n):\n",
    "    if n <= 1:\n",
    "        return False\n",
    "    if n <= 3:\n",
    "        return True\n",
    "    if n % 2 == 0 or n % 3 == 0:\n",
    "        return False\n",
    "    i = 5\n",
    "    while i * i <= n:\n",
    "        if n % i == 0 or n % (i + 2) == 0:\n",
    "            return False\n",
    "        i += 6\n",
    "    return True\n",
    "\n",
    "\n",
    "def rand_prime():\n",
    "    while True:\n",
    "        candidate = random.randint(2, order)\n",
    "        if is_prime(candidate):\n",
    "            return candidate\n",
    "\n",
    "\n",
    "def rand_int(n):\n",
    "    return random.randint(2, n)\n",
    "\n",
    "\n",
    "def gcd(a, b):\n",
    "    while b:\n",
    "        a, b = b, a % b\n",
    "    return a\n",
    "\n",
    "\n",
    "def mod_inv(a, b):\n",
    "    m0, x0, x1 = b, 0, 1\n",
    "    while a > 1:\n",
    "        q = a // b\n",
    "        a, b = b, a % b\n",
    "        x0, x1 = x1 - q * x0, x0\n",
    "    return x1 + m0 if x1 < 0 else x1\n",
    "\n",
    "\n",
    "def find_coprime(phi):\n",
    "    e = rand_int(phi - 1)\n",
    "    while gcd(e, phi) != 1:\n",
    "        e = rand_int(phi - 1)\n",
    "    return e\n",
    "\n",
    "\n",
    "# Key generation\n",
    "\n",
    "\n",
    "def key_gen():\n",
    "    p, q = rand_prime(), rand_prime()\n",
    "    n = p * q\n",
    "    phi = (p - 1) * (q - 1)\n",
    "    e = find_coprime(phi)\n",
    "    d = mod_inv(e, phi)\n",
    "    pk = (n, e)\n",
    "    sk = (n, d)\n",
    "    return pk, sk\n",
    "\n",
    "\n",
    "# Encryption\n",
    "\n",
    "\n",
    "def encrypt(msg, pk):\n",
    "    n, e = pk\n",
    "    ciphertext = pow(msg, e, n)\n",
    "    return ciphertext\n",
    "\n",
    "\n",
    "# Decryption\n",
    "\n",
    "\n",
    "def decrypt(ciphertext, sk):\n",
    "    n, d = sk\n",
    "    plaintext = pow(ciphertext, d, n)\n",
    "    return plaintext\n",
    "\n",
    "\n",
    "pk, sk = key_gen()\n",
    "msg = 123\n",
    "ciphertext = encrypt(msg, pk)\n",
    "plaintext = decrypt(ciphertext, sk)\n",
    "assert msg == plaintext, \"message must match plaintext\"\n",
    "\n",
    "print(f\"msg={msg}\")\n",
    "print(f\"pk={pk}\")\n",
    "print(f\"sk={sk}\")\n",
    "print(f\"ciphertext={ciphertext}\")\n",
    "print(f\"plaintext={plaintext}\")"
   ],
   "id": "428c585987fc5c47",
   "outputs": [
    {
     "name": "stdout",
     "output_type": "stream",
     "text": [
      "msg=123\n",
      "pk=(3749, 967)\n",
      "sk=(3749, 1231)\n",
      "ciphertext=3338\n",
      "plaintext=123\n"
     ]
    }
   ],
   "execution_count": 464
  },
  {
   "metadata": {},
   "cell_type": "markdown",
   "source": [
    "## Attack Vector #1: Factorize $n$\n",
    "\n",
    "In order to recover the private key $d$, we need to factorize $n$ into $p$ and $q$. Then, we simply compute $\\phi(n) = (p - 1)(q - 1)$ and follow the key derivation steps.\n",
    "\n",
    "For factorization, we use the [quadratic sieve](https://www.wikiwand.com/en/articles/Quadratic_sieve) algorithm.\n",
    "\n",
    "Note that this only works for our selected, low bit security.\n",
    "\n",
    "\n"
   ],
   "id": "7377f321699f6314"
  }
 ],
 "metadata": {
  "kernelspec": {
   "display_name": "Python 3",
   "language": "python",
   "name": "python3"
  },
  "language_info": {
   "codemirror_mode": {
    "name": "ipython",
    "version": 2
   },
   "file_extension": ".py",
   "mimetype": "text/x-python",
   "name": "python",
   "nbconvert_exporter": "python",
   "pygments_lexer": "ipython2",
   "version": "2.7.6"
  }
 },
 "nbformat": 4,
 "nbformat_minor": 5
}
