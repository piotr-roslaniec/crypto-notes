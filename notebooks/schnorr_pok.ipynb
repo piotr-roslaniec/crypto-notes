{
 "cells": [
  {
   "metadata": {},
   "cell_type": "markdown",
   "source": "# Schnorr's Protocol: Proof of Knowledge of Discrete Log",
   "id": "a3ffd9d6511be2be"
  },
  {
   "metadata": {
    "ExecuteTime": {
     "end_time": "2024-08-07T16:41:29.193545Z",
     "start_time": "2024-08-07T16:41:29.165797Z"
    }
   },
   "cell_type": "code",
   "source": [
    "import random\n",
    "\n",
    "import galois\n",
    "\n",
    "# Define our field\n",
    "GF = galois.GF(2**8)\n",
    "G = GF.primitive_element\n",
    "\n",
    "\n",
    "def rand_scalar():\n",
    "    return random.randint(0, GF.order - 1)\n",
    "\n",
    "\n",
    "# Prover generates a commitment to a secret `x`: `public_key`\n",
    "x = rand_scalar()\n",
    "public_key = G**x\n",
    "\n",
    "# Prover generates a random nonce `a` and computes `commitment`\n",
    "a = rand_scalar()\n",
    "commitment = G**a\n",
    "\n",
    "# Verifier generates a random challenge beta\n",
    "beta = rand_scalar()\n",
    "\n",
    "# Honest Prover computes a proof of knowledge: `gamma`\n",
    "gamma = beta * x + a\n",
    "\n",
    "# Verifier checks `gamma`\n",
    "is_ok = public_key**beta * commitment == G**gamma\n",
    "assert is_ok, \"Honest Prover sends a valid proof of knowledge of x\"\n",
    "\n",
    "# Dishonest Prover cheats by forging a bad proof of knowledge: `bad_gamma`\n",
    "bad_x = rand_scalar()\n",
    "bad_gamma = beta * bad_x + a\n",
    "\n",
    "# Notice that because `bad_x` is random it won't match the `public_key` commitment made with the original, valid `x`\n",
    "\n",
    "# Verifier checks `bad_gamma`\n",
    "is_bad_ok = public_key**beta * commitment == G**bad_gamma\n",
    "assert not is_bad_ok, \"Dishonest Prover sends an invalid proof of knowledge of x\"\n",
    "\n",
    "print(\"Done\")"
   ],
   "id": "fcc66644d68956de",
   "outputs": [
    {
     "name": "stdout",
     "output_type": "stream",
     "text": [
      "Done\n"
     ]
    }
   ],
   "execution_count": 2
  }
 ],
 "metadata": {
  "kernelspec": {
   "display_name": "Python 3",
   "language": "python",
   "name": "python3"
  },
  "language_info": {
   "codemirror_mode": {
    "name": "ipython",
    "version": 2
   },
   "file_extension": ".py",
   "mimetype": "text/x-python",
   "name": "python",
   "nbconvert_exporter": "python",
   "pygments_lexer": "ipython2",
   "version": "2.7.6"
  }
 },
 "nbformat": 4,
 "nbformat_minor": 5
}
